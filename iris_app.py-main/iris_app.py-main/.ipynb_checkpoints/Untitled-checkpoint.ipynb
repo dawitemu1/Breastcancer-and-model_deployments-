{
 "cells": [
  {
   "cell_type": "code",
   "execution_count": null,
   "id": "834373dd-5cb3-47ff-bcc5-c804b0d67f0e",
   "metadata": {},
   "outputs": [],
   "source": [
    "import streamlit as st\n",
    "x = st.slider(\"Select a value\")\n",
    "st.write(x, \"squared is\", x * x)"
   ]
  }
 ],
 "metadata": {
  "kernelspec": {
   "display_name": "Python 3 (ipykernel)",
   "language": "python",
   "name": "python3"
  },
  "language_info": {
   "name": ""
  }
 },
 "nbformat": 4,
 "nbformat_minor": 5
}
