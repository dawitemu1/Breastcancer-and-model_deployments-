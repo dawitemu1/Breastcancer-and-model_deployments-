{
 "cells": [
  {
   "cell_type": "code",
   "execution_count": 2,
   "id": "1bf7c7b0-ffe4-4057-abb0-1b5d9360abc9",
   "metadata": {
    "tags": []
   },
   "outputs": [
    {
     "name": "stderr",
     "output_type": "stream",
     "text": [
      "C:\\Users\\Dawit Shibabaw\\AppData\\Local\\Temp\\ipykernel_11044\\166928181.py:30: DataConversionWarning: A column-vector y was passed when a 1d array was expected. Please change the shape of y to (n_samples,), for example using ravel().\n",
      "  clf.fit(X_train, y_train)\n"
     ]
    },
    {
     "name": "stdout",
     "output_type": "stream",
     "text": [
      "Accuracy: 0.9473684210526315\n"
     ]
    },
    {
     "data": {
      "text/plain": [
       "['Breastcnacer_rf_model.sav']"
      ]
     },
     "execution_count": 2,
     "metadata": {},
     "output_type": "execute_result"
    }
   ],
   "source": [
    "import pandas as pd\n",
    "from sklearn.ensemble import RandomForestClassifier\n",
    "from sklearn.metrics import accuracy_score\n",
    "from sklearn.model_selection import train_test_split\n",
    "import joblib\n",
    "\n",
    "# random seed\n",
    "seed = 42\n",
    "\n",
    "# Read original dataset\n",
    "iris_df = pd.read_csv(\"C:/Users/Dawit Shibabaw/Desktop/Iris_stremalit - Copy/data.csv\")\n",
    "iris_df.sample(frac=1, random_state=seed)\n",
    "\n",
    "# selecting features and target data\n",
    "X = iris_df[['radius_mean', 'perimeter_mean', 'area_mean',\n",
    "       'concave points_mean', 'fractal_dimension_mean', 'radius_se',\n",
    "       'texture_se', 'area_se', 'concavity_se', 'concave points_se',\n",
    "       'texture_worst', 'perimeter_worst', 'area_worst', 'compactness_worst']]\n",
    "y = iris_df[['diagnosis']]\n",
    "\n",
    "# split data into train and test sets\n",
    "# 70% training and 30% test\n",
    "X_train, X_test, y_train, y_test = train_test_split(\n",
    "    X, y, test_size=0.2, random_state=seed, stratify=y)\n",
    "\n",
    "# create an instance of the random forest classifier\n",
    "clf = RandomForestClassifier(n_estimators=100)\n",
    "\n",
    "# train the classifier on the training data\n",
    "clf.fit(X_train, y_train)\n",
    "\n",
    "# predict on the test set\n",
    "y_pred = clf.predict(X_test)\n",
    "\n",
    "# calculate accuracy\n",
    "accuracy = accuracy_score(y_test, y_pred)\n",
    "print(f\"Accuracy: {accuracy}\")  # Accuracy: 0.91\n",
    "\n",
    "# save the model to disk\n",
    "joblib.dump(clf, \"Breastcnacer_rf_model.sav\")\n"
   ]
  },
  {
   "cell_type": "code",
   "execution_count": null,
   "id": "7925e7f7-eb06-4d3c-9e37-9a0e69d014a7",
   "metadata": {},
   "outputs": [],
   "source": []
  }
 ],
 "metadata": {
  "kernelspec": {
   "display_name": "Python 3 (ipykernel)",
   "language": "python",
   "name": "python3"
  },
  "language_info": {
   "codemirror_mode": {
    "name": "ipython",
    "version": 3
   },
   "file_extension": ".py",
   "mimetype": "text/x-python",
   "name": "python",
   "nbconvert_exporter": "python",
   "pygments_lexer": "ipython3",
   "version": "3.11.5"
  }
 },
 "nbformat": 4,
 "nbformat_minor": 5
}
